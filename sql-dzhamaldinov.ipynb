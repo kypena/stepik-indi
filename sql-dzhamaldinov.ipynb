{
 "cells": [
  {
   "cell_type": "code",
   "execution_count": null,
   "metadata": {},
   "outputs": [],
   "source": [
    "\"\"\"\n",
    "sql lesson code\n",
    "\"\"\""
   ]
  },
  {
   "cell_type": "code",
   "execution_count": null,
   "metadata": {},
   "outputs": [],
   "source": [
    "SELECT -- перечисление полей результирующей таблицы (выбрать)\n",
    "FROM -- указание источника данных (из)\n",
    "WHERE -- фильтрация данных\n",
    "GROUP BY -- группировка данных\n",
    "HAVING -- фильтрация данных после группировки\n",
    "ORDER BY -- сортировка результирующей таблицы (отсортировать)\n",
    "LIMIT -- ограничение количества выводимых записей (указать необходимое число записей)\n",
    "\n",
    "SELECT column_1, column_2 (выбрать)\n",
    "FROM table (откуда)\n",
    "ORDER BY column_1 (отсортировать)       -- сортировка по возрастанию\n",
    "\n",
    "\n",
    "SELECT column_1, column_2\n",
    "FROM table\n",
    "ORDER BY column_1 ASC    -- сортировка по возрастанию\n",
    "\n",
    "\n",
    "SELECT column_1, column_2\n",
    "FROM table\n",
    "ORDER BY column_1 (отсортировать) DESC (вариант сортировки)  -- сортировка по убыванию\n",
    "\n",
    "Сортировать результат SQL-запроса можно сразу по нескольким колонкам, \n",
    "указывая их после ORDER BY через запятую вместе с направлением сортировки (ASC или DESC):\n",
    "\n",
    "SELECT column_1, column_2\n",
    "FROM table\n",
    "ORDER BY column_1 DESC, column_2    -- сначала сортировка по первой колонке (по убыванию), \n",
    "                                    -- затем по второй (по возрастанию)\n"
   ]
  },
  {
   "cell_type": "code",
   "execution_count": null,
   "metadata": {},
   "outputs": [],
   "source": [
    "Выведите все записи из таблицы products.\n",
    "Поля в результирующей таблице: product_id, name, price\n",
    "\n",
    "№1\n",
    "SELECT(выбрать) product_id,\n",
    "       name,\n",
    "       price\n",
    "FROM(из)   products\n",
    "\n",
    "Выведите все записи из таблицы products, отсортировав их по наименованиям товаров \n",
    "в алфавитном порядке, т.е. по возрастанию. Для сортировки используйте оператор ORDER BY.\n",
    "Поля в результирующей таблице: product_id, name, price\n",
    "(для себя, если нужно отсортировать в алфавитном порядке, то и сортировать нужно по имени)\n",
    "\n",
    "№1\n",
    "SELECT *\n",
    "FROM   products\n",
    "ORDER BY name asc\n",
    "\n",
    "Отсортируйте таблицу courier_actions сначала по колонке courier_id по возрастанию id курьера, \n",
    "потом по колонке action (снова по возрастанию), а затем по колонке time, \n",
    "но уже по убыванию — от самого последнего действия к самому первому. Не забудьте включить в результат колонку order_id.\n",
    "Добавьте в запрос оператор LIMIT и выведите только первые 1000 строк результирующей таблицы.\n",
    "\n",
    "Поля в результирующей таблице: courier_id, order_id, action, time\n",
    "\n",
    "№1\n",
    "SELECT courier_id, order_id, action, time\n",
    "FROM courier_actions\n",
    "ORDER BY courier_id ASC, action ASC, time DESC, order_id\n",
    "LIMIT 1000\n",
    "\n",
    "№2\n",
    "SELECT courier_id,\n",
    "       order_id,\n",
    "       action,\n",
    "       time\n",
    "FROM   courier_actions\n",
    "ORDER BY courier_id, action, time desc limit 1000"
   ]
  }
 ],
 "metadata": {
  "language_info": {
   "name": "python"
  }
 },
 "nbformat": 4,
 "nbformat_minor": 2
}
